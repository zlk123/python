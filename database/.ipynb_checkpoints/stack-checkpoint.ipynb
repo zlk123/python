{
 "cells": [
  {
   "cell_type": "code",
   "execution_count": 2,
   "metadata": {
    "collapsed": false
   },
   "outputs": [],
   "source": [
    "from linkedlist import LinkList"
   ]
  },
  {
   "cell_type": "code",
   "execution_count": null,
   "metadata": {
    "collapsed": true
   },
   "outputs": [],
   "source": [
    "class stack(object):\n",
    "    size = 0\n",
    "    top\n",
    "    bottom\n",
    "    \n",
    "    def __init__(self):\n",
    "        \n",
    "    def pop(self, val):\n",
    "        \n",
    "    def push(self):\n",
    "        \n",
    "    def Isempty(self):\n",
    "        \n",
    "    def Isfull(self):\n",
    "        \n",
    "import collections\n",
    "stack = collections.deque()"
   ]
  }
 ],
 "metadata": {
  "kernelspec": {
   "display_name": "Python 3",
   "language": "python",
   "name": "python3"
  },
  "language_info": {
   "codemirror_mode": {
    "name": "ipython",
    "version": 3
   },
   "file_extension": ".py",
   "mimetype": "text/x-python",
   "name": "python",
   "nbconvert_exporter": "python",
   "pygments_lexer": "ipython3",
   "version": "3.6.0"
  }
 },
 "nbformat": 4,
 "nbformat_minor": 2
}
