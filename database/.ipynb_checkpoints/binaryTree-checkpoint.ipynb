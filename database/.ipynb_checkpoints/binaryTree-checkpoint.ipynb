{
 "cells": [
  {
   "cell_type": "markdown",
   "metadata": {},
   "source": [
    "- define stack and TreeNode class to help build a tree"
   ]
  },
  {
   "cell_type": "code",
   "execution_count": 1,
   "metadata": {
    "collapsed": false
   },
   "outputs": [],
   "source": [
    "class Stack:\n",
    "    def __init__(self):\n",
    "        self.items = []\n",
    "        \n",
    "    def isEmpty(self):\n",
    "        return self.items == []\n",
    "    \n",
    "    def push(self, item):\n",
    "        self.items.append(item)\n",
    "        \n",
    "    def pop(self):\n",
    "        return self.items.pop()\n",
    "    \n",
    "    def top(self):\n",
    "        return self.items[-1]\n",
    "    \n",
    "    def size(self):\n",
    "        return len(self.items)\n",
    "\n",
    "class TreeNode:\n",
    "    left = None\n",
    "    right = None\n",
    "    val = 0\n",
    "    \n",
    "    def __init__(self, val):\n",
    "        self.val = val"
   ]
  },
  {
   "cell_type": "markdown",
   "metadata": {},
   "source": [
    "##### 广义表构造二叉树\n",
    "- 若是字母，则表示节点的值，将其作为新节点（k=1 左子女；k=2右子女）\n",
    "- 左括号，将k置0\n",
    "- 逗号，将k置1\n",
    "\n",
    "###### 注意事项\n",
    "- 使用child的时候需要用 {}， 直接用数组的话（child = [None, None]）会导致错误应该是内存的问题\n",
    "\n",
    "- 需要用到top，每次的父节点都是stack 中的top"
   ]
  },
  {
   "cell_type": "code",
   "execution_count": 2,
   "metadata": {
    "collapsed": false
   },
   "outputs": [],
   "source": [
    "class Tree(object):\n",
    "    root = None\n",
    "    \n",
    "    def __init__(self):\n",
    "        self.root = None\n",
    "    \n",
    "    # 利用广义表生成树    \n",
    "    def buildWithForm(self, string):\n",
    "        temporder = 0\n",
    "        current = 0\n",
    "        k = 0\n",
    "        stack = Stack()\n",
    "        while(string[current] != '#'):    #终止符号\n",
    "            t = None\n",
    "            \n",
    "            if string[current] == '(':\n",
    "                k = 0\n",
    "                stack.push(p)\n",
    "                \n",
    "            elif string[current] == ')':\n",
    "                stack.pop()\n",
    "                \n",
    "            elif string[current] == ',':\n",
    "                k = 1\n",
    "                \n",
    "            else:\n",
    "                p = TreeNode(string[current])\n",
    "                \n",
    "                \n",
    "                if self.root == None:\n",
    "                    self.root = p\n",
    "                else:\n",
    "                    t = stack.top()\n",
    "                    if k == 0:\n",
    "                        t.left = p\n",
    "                    else:\n",
    "                        t.right = p\n",
    "\n",
    "            current += 1\n",
    "            print(current)     \n",
    "        \n",
    "    def preorder(self, temproot):\n",
    "        if temproot.left == None and temproot.right == None:\n",
    "            print (temproot.val,end='')\n",
    "            return\n",
    "        \n",
    "        print(temproot.val,'(',end='')\n",
    "        if temproot.left != None:\n",
    "            self.preorder(temproot.left)\n",
    "        \n",
    "        print(',',end='')\n",
    "        if temproot.right != None:\n",
    "            self.preorder(temproot.right)\n",
    "            \n",
    "        print(')', end = '')\n",
    "\n",
    "    def inorder(self,root):\n",
    "        if root:\n",
    "            self.inorder(root.left)\n",
    "            self.traverse_path.append(root.val)\n",
    "            self.inorder(root.right)\n",
    "\n",
    "    def postorder(self,root):\n",
    "        if root:\n",
    "            self.postorder(root.left)\n",
    "            self.postorder(root.right)\n",
    "            self.traverse_path.append(root.val)"
   ]
  },
  {
   "cell_type": "code",
   "execution_count": 4,
   "metadata": {
    "collapsed": false
   },
   "outputs": [
    {
     "name": "stdout",
     "output_type": "stream",
     "text": [
      "1\n",
      "1\n",
      "1\n",
      "2\n",
      "3\n",
      "4\n",
      "5\n",
      "6\n",
      "7\n",
      "8\n",
      "9\n",
      "10\n",
      "11\n",
      "12\n",
      "13\n",
      "14\n",
      "15\n",
      "16\n",
      "17\n",
      "18\n",
      "19\n",
      "1\n",
      "A (B (D,E (G,)),C (,F))"
     ]
    }
   ],
   "source": [
    "s = \"A(B(D,E(G,)),C(,F))#\"\n",
    "#s = \"A(B(D,E),C)#\"\n",
    "print(1)\n",
    "testTree = Tree()\n",
    "print(1)\n",
    "testTree.buildWithForm(s)\n",
    "print(1)\n",
    "testTree.preorder(testTree.root)\n",
    "\n"
   ]
  },
  {
   "cell_type": "markdown",
   "metadata": {},
   "source": [
    "- TreeNode can use the form blow"
   ]
  },
  {
   "cell_type": "code",
   "execution_count": 59,
   "metadata": {
    "collapsed": false
   },
   "outputs": [
    {
     "name": "stdout",
     "output_type": "stream",
     "text": [
      "A (B (D,E),C)"
     ]
    }
   ],
   "source": [
    "class TreeNode:\n",
    "    child = {}\n",
    "    val = 0\n",
    "    \n",
    "    def __init__(self, val):\n",
    "        self.val = val"
   ]
  },
  {
   "cell_type": "code",
   "execution_count": null,
   "metadata": {
    "collapsed": false
   },
   "outputs": [],
   "source": []
  },
  {
   "cell_type": "code",
   "execution_count": null,
   "metadata": {
    "collapsed": false
   },
   "outputs": [],
   "source": []
  }
 ],
 "metadata": {
  "kernelspec": {
   "display_name": "Python 3",
   "language": "python",
   "name": "python3"
  },
  "language_info": {
   "codemirror_mode": {
    "name": "ipython",
    "version": 3
   },
   "file_extension": ".py",
   "mimetype": "text/x-python",
   "name": "python",
   "nbconvert_exporter": "python",
   "pygments_lexer": "ipython3",
   "version": "3.6.0"
  }
 },
 "nbformat": 4,
 "nbformat_minor": 2
}
