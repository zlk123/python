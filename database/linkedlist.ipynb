{
 "cells": [
  {
   "cell_type": "markdown",
   "metadata": {},
   "source": [
    "- 链表节点"
   ]
  },
  {
   "cell_type": "code",
   "execution_count": 5,
   "metadata": {
    "collapsed": true
   },
   "outputs": [],
   "source": [
    "class ListNode:\n",
    "    def __init__(self, val):\n",
    "        self.val = val\n",
    "        self.next = None"
   ]
  },
  {
   "cell_type": "markdown",
   "metadata": {},
   "source": [
    "- 链表类"
   ]
  },
  {
   "cell_type": "code",
   "execution_count": 57,
   "metadata": {
    "collapsed": false
   },
   "outputs": [],
   "source": [
    "class LinkList(object):\n",
    "    head = 0\n",
    "    lens = 0\n",
    "    \n",
    "    def __init__(self):\n",
    "        self.head = 0\n",
    "        \n",
    "    def BuildWithArray(self,array):\n",
    "        lens = len(array)\n",
    "        if lens == 0:\n",
    "            pass\n",
    "\n",
    "        self.head = ListNode(array[0])\n",
    "        current = self.head\n",
    "        \n",
    "        for i in range(1,lens):\n",
    "            new_node = ListNode(array[i])\n",
    "            # 设置指针\n",
    "            current.next = new_node\n",
    "            #  更新当前指针\n",
    "            current = new_node\n",
    "            \n",
    "        self.lens = lens\n",
    "    # print 函数\n",
    "    \n",
    "    def PrintList(self):\n",
    "        current = self.head\n",
    "        for i in range(self.lens):\n",
    "            print(current.val,end=' ')\n",
    "            current = current.next\n",
    "    \n",
    "    def IsEmpty(self):\n",
    "        return self.lens == 0\n",
    "    \n",
    "    # 在第i位置上插入一个数\n",
    "    def Insert(self, index, val):\n",
    "        if index < 0 or index > self.lens:\n",
    "            print('the index is wrong, please input the suitable index')       \n",
    "            return\n",
    "        \n",
    "        current = self.head\n",
    "        new_node =  ListNode(val)\n",
    "        \n",
    "        if index == 0:\n",
    "\n",
    "            new_node.next = self.head\n",
    "            self.head = new_node\n",
    "\n",
    "        elif index == self.lens:\n",
    "            while(current.next != None):\n",
    "                current = current.next                \n",
    "            current.next = new_node\n",
    "\n",
    "        else:\n",
    "            current = self.head\n",
    "            for i in range(index-1):\n",
    "                current = current.next\n",
    "            # new node should insert in current and current.next\n",
    "            nextnode = current.next\n",
    "            current.next = new_node\n",
    "            new_node.next = nextnode\n",
    "            \n",
    "        self.lens += 1\n",
    "        \n",
    "        # 删去第i个数，并返回\n",
    "    def Delete(self,index):\n",
    "        if self.lens == 0:\n",
    "            print('can not delete anything in an empty linklist')\n",
    "            \n",
    "        if index < 0 or index >= self.lens :\n",
    "            print('the index is wrong, please input the suitable index')       \n",
    "            return\n",
    "        \n",
    "        current = self.head\n",
    "        if index == 0:\n",
    "            self.head = self.head.next\n",
    "        else:\n",
    "            for i in range(index-1):\n",
    "                current = current.next\n",
    "                \n",
    "            nextnode = current.next\n",
    "            current.next = nextnode.next           \n",
    "        self.lens -= 1\n",
    "            \n",
    "\n",
    " "
   ]
  },
  {
   "cell_type": "code",
   "execution_count": 58,
   "metadata": {
    "collapsed": false
   },
   "outputs": [
    {
     "name": "stdout",
     "output_type": "stream",
     "text": [
      "1 2 4 7 8 10 "
     ]
    }
   ],
   "source": [
    "testlist = LinkList()\n",
    "array = [1,2,4,7,8,10]\n",
    "testlist.BuildWithArray(array)\n",
    "testlist.PrintList()"
   ]
  },
  {
   "cell_type": "code",
   "execution_count": 59,
   "metadata": {
    "collapsed": false
   },
   "outputs": [
    {
     "name": "stdout",
     "output_type": "stream",
     "text": [
      "1 0 2 4 7 8 10 "
     ]
    }
   ],
   "source": [
    "testlist.Insert(1,0)\n",
    "testlist.PrintList()"
   ]
  },
  {
   "cell_type": "code",
   "execution_count": 60,
   "metadata": {
    "collapsed": false
   },
   "outputs": [
    {
     "name": "stdout",
     "output_type": "stream",
     "text": [
      "1 0 4 7 8 10 "
     ]
    }
   ],
   "source": [
    "testlist.Delete(2)\n",
    "testlist.PrintList()"
   ]
  },
  {
   "cell_type": "code",
   "execution_count": 49,
   "metadata": {
    "collapsed": false
   },
   "outputs": [
    {
     "data": {
      "text/plain": [
       "1"
      ]
     },
     "execution_count": 49,
     "metadata": {},
     "output_type": "execute_result"
    }
   ],
   "source": [
    "testlist.head.val"
   ]
  },
  {
   "cell_type": "code",
   "execution_count": 27,
   "metadata": {
    "collapsed": false
   },
   "outputs": [
    {
     "data": {
      "text/plain": [
       "6"
      ]
     },
     "execution_count": 27,
     "metadata": {},
     "output_type": "execute_result"
    }
   ],
   "source": [
    "testlist.lens"
   ]
  },
  {
   "cell_type": "code",
   "execution_count": null,
   "metadata": {
    "collapsed": true
   },
   "outputs": [],
   "source": []
  }
 ],
 "metadata": {
  "kernelspec": {
   "display_name": "Python 3",
   "language": "python",
   "name": "python3"
  },
  "language_info": {
   "codemirror_mode": {
    "name": "ipython",
    "version": 3
   },
   "file_extension": ".py",
   "mimetype": "text/x-python",
   "name": "python",
   "nbconvert_exporter": "python",
   "pygments_lexer": "ipython3",
   "version": "3.4.5"
  }
 },
 "nbformat": 4,
 "nbformat_minor": 2
}
